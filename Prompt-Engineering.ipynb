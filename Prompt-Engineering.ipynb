{
 "cells": [
  {
   "cell_type": "code",
   "execution_count": null,
   "metadata": {},
   "outputs": [],
   "source": [
    "%%capture\n",
    "# update or install the necessary libraries\n",
    "%pip install llamaapi -q\n",
    "%pip install --upgrade langchain langchain-community openai\n",
    "%pip install --upgrade python-dotenv"
   ]
  },
  {
   "cell_type": "code",
   "execution_count": null,
   "metadata": {},
   "outputs": [],
   "source": [
    "import pandas as pd\n",
    "\n",
    "# Load JSON file into a Pandas DataFrame\n",
    "df = pd.read_json('D:\\College\\SKRIPSI\\Code\\Dataset\\cactus.json')  # Replace with actual filename\n",
    "\n",
    "# Get unique values from the 'cbt_technique' column\n",
    "unique_cbt_techniques = df['cbt_technique'].unique()\n",
    "\n",
    "# Print unique values\n",
    "print(unique_cbt_techniques)\n"
   ]
  },
  {
   "cell_type": "code",
   "execution_count": null,
   "metadata": {},
   "outputs": [],
   "source": [
    "import json\n",
    "\n",
    "# Load the JSON file\n",
    "with open(\"D:\\College\\SKRIPSI\\Code\\Dataset\\cactus.json\", \"r\") as file:  # Replace with your actual file path\n",
    "    data = json.load(file)\n",
    "\n",
    "# Extract unique patterns\n",
    "unique_patterns = set()  # Using a set to store only unique values\n",
    "\n",
    "for entry in data:\n",
    "    if \"patterns\" in entry:\n",
    "        unique_patterns.update(entry[\"patterns\"])  # Add all patterns to the set\n",
    "\n",
    "# Print the unique patterns\n",
    "print(\"Unique Patterns:\")\n",
    "for pattern in sorted(unique_patterns):  # Sort for better readability\n",
    "    print(\"-\", pattern)\n"
   ]
  },
  {
   "cell_type": "code",
   "execution_count": 2,
   "metadata": {},
   "outputs": [
    {
     "name": "stdout",
     "output_type": "stream",
     "text": [
      "['Decatastrophizing' 'Reality Testing' 'Alternative Perspective'\n",
      " 'Efficiency Evaluation' 'Behavior Experiment'\n",
      " 'Problem-Solving Skills Training' 'Evidence-Based Questioning'\n",
      " 'Changing Rules to Wishes' 'Activity Scheduling'\n",
      " 'Self-Assertiveness Training' 'Pros and Cons Analysis' 'Reframing'\n",
      " 'Thought Experiment' 'Continuum Technique' 'Safety Behaviors Elimination'\n",
      " 'Role-playing and Simulation' 'Practice of Assertive Conversation Skills'\n",
      " 'Systematic Exposure' 'Effciency Evaluation'\n",
      " 'Reframing Catastrophizing Thoughts' 'Problem-solving Skills Training'\n",
      " 'Behavioral Experiment' 'Alternative Perspective.'\n",
      " 'Chaging Rule to Wishes' 'Reframes: Alternative Perspective'\n",
      " '-Decatastrophizing \\n-Alternative Perspective \\n-Thought Experiment'\n",
      " 'Changing Rules to Wishes.' 'Alternaitve Perspective'\n",
      " 'Alternate Perspective' 'Efficieny Evaluation' 'Alternative perspective'\n",
      " 'Reality testing' 'Positive Reframing' 'Empathy Building']\n"
     ]
    }
   ],
   "source": [
    "import pandas as pd\n",
    "\n",
    "# Load JSON file into a Pandas DataFrame\n",
    "df = pd.read_json('D:\\College\\SKRIPSI\\Code\\Dataset\\cactus.json')  # Replace with actual filename\n",
    "\n",
    "# Get unique values from the 'cbt_technique' column\n",
    "unique_cbt_techniques = df['cbt_technique'].unique()\n",
    "\n",
    "# Print unique values\n",
    "print(unique_cbt_techniques)\n"
   ]
  },
  {
   "cell_type": "markdown",
   "metadata": {},
   "source": [
    "# Data Preprocessing"
   ]
  },
  {
   "cell_type": "code",
   "execution_count": 18,
   "metadata": {},
   "outputs": [
    {
     "name": "stdout",
     "output_type": "stream",
     "text": [
      "<class 'pandas.core.frame.DataFrame'>\n",
      "RangeIndex: 2530 entries, 0 to 2529\n",
      "Data columns (total 5 columns):\n",
      " #   Column                           Non-Null Count  Dtype \n",
      "---  ------                           --------------  ----- \n",
      " 0   Id_Number                        2530 non-null   int64 \n",
      " 1   Patient Question                 2530 non-null   object\n",
      " 2   Distorted part                   1597 non-null   object\n",
      " 3   Dominant Distortion              2530 non-null   object\n",
      " 4   Secondary Distortion (Optional)  416 non-null    object\n",
      "dtypes: int64(1), object(4)\n",
      "memory usage: 99.0+ KB\n"
     ]
    }
   ],
   "source": [
    "import pandas as pd\n",
    "\n",
    "distortion = pd.read_csv('D:\\College\\SKRIPSI\\Code\\Dataset\\Annotated_data.csv')\n",
    "\n",
    "distortion.info()"
   ]
  },
  {
   "cell_type": "code",
   "execution_count": 19,
   "metadata": {},
   "outputs": [],
   "source": [
    "distortion = distortion.drop(columns=['Id_Number'])"
   ]
  },
  {
   "cell_type": "code",
   "execution_count": 20,
   "metadata": {},
   "outputs": [],
   "source": [
    "distortion[\"Distorted part\"] = distortion[\"Distorted part\"].fillna(\"No Distortion\")"
   ]
  },
  {
   "cell_type": "code",
   "execution_count": 21,
   "metadata": {},
   "outputs": [],
   "source": [
    "distortion[\"Secondary Distortion (Optional)\"] = distortion[\"Secondary Distortion (Optional)\"].fillna(\"No Distortion\")"
   ]
  },
  {
   "cell_type": "code",
   "execution_count": 22,
   "metadata": {},
   "outputs": [],
   "source": [
    "distortion.to_csv(\"Cognitive_Distortion.csv\", index=False)"
   ]
  },
  {
   "cell_type": "code",
   "execution_count": 23,
   "metadata": {},
   "outputs": [
    {
     "data": {
      "text/html": [
       "<div>\n",
       "<style scoped>\n",
       "    .dataframe tbody tr th:only-of-type {\n",
       "        vertical-align: middle;\n",
       "    }\n",
       "\n",
       "    .dataframe tbody tr th {\n",
       "        vertical-align: top;\n",
       "    }\n",
       "\n",
       "    .dataframe thead th {\n",
       "        text-align: right;\n",
       "    }\n",
       "</style>\n",
       "<table border=\"1\" class=\"dataframe\">\n",
       "  <thead>\n",
       "    <tr style=\"text-align: right;\">\n",
       "      <th></th>\n",
       "      <th>Patient Question</th>\n",
       "      <th>Distorted part</th>\n",
       "      <th>Dominant Distortion</th>\n",
       "      <th>Secondary Distortion (Optional)</th>\n",
       "    </tr>\n",
       "  </thead>\n",
       "  <tbody>\n",
       "    <tr>\n",
       "      <th>0</th>\n",
       "      <td>Hello, I have a beautiful,smart,outgoing and a...</td>\n",
       "      <td>The voice are always fimilar (someone she know...</td>\n",
       "      <td>Personalization</td>\n",
       "      <td>No Distortion</td>\n",
       "    </tr>\n",
       "    <tr>\n",
       "      <th>1</th>\n",
       "      <td>Since I was about 16 years old I’ve had these ...</td>\n",
       "      <td>I feel trapped inside my disgusting self and l...</td>\n",
       "      <td>Labeling</td>\n",
       "      <td>Emotional Reasoning</td>\n",
       "    </tr>\n",
       "    <tr>\n",
       "      <th>2</th>\n",
       "      <td>So I’ve been dating on and off this guy for a...</td>\n",
       "      <td>No Distortion</td>\n",
       "      <td>No Distortion</td>\n",
       "      <td>No Distortion</td>\n",
       "    </tr>\n",
       "    <tr>\n",
       "      <th>3</th>\n",
       "      <td>My parents got divorced in 2004. My mother has...</td>\n",
       "      <td>No Distortion</td>\n",
       "      <td>No Distortion</td>\n",
       "      <td>No Distortion</td>\n",
       "    </tr>\n",
       "    <tr>\n",
       "      <th>4</th>\n",
       "      <td>I don’t really know how to explain the situati...</td>\n",
       "      <td>I refused to go because I didn’t know if it wa...</td>\n",
       "      <td>Fortune-telling</td>\n",
       "      <td>Emotional Reasoning</td>\n",
       "    </tr>\n",
       "    <tr>\n",
       "      <th>...</th>\n",
       "      <td>...</td>\n",
       "      <td>...</td>\n",
       "      <td>...</td>\n",
       "      <td>...</td>\n",
       "    </tr>\n",
       "    <tr>\n",
       "      <th>2525</th>\n",
       "      <td>I’m a 21 year old female. I spent most of my l...</td>\n",
       "      <td>No Distortion</td>\n",
       "      <td>No Distortion</td>\n",
       "      <td>No Distortion</td>\n",
       "    </tr>\n",
       "    <tr>\n",
       "      <th>2526</th>\n",
       "      <td>I am 21 female and have not had any friends fo...</td>\n",
       "      <td>Now I am at university my peers around me all ...</td>\n",
       "      <td>Overgeneralization</td>\n",
       "      <td>No Distortion</td>\n",
       "    </tr>\n",
       "    <tr>\n",
       "      <th>2527</th>\n",
       "      <td>From the U.S.: My brother is 19 years old and ...</td>\n",
       "      <td>He claims he’s severely depressed and has outb...</td>\n",
       "      <td>Mental filter</td>\n",
       "      <td>Mind Reading</td>\n",
       "    </tr>\n",
       "    <tr>\n",
       "      <th>2528</th>\n",
       "      <td>From the U.S.: I am a 21 year old woman who ha...</td>\n",
       "      <td>No Distortion</td>\n",
       "      <td>No Distortion</td>\n",
       "      <td>No Distortion</td>\n",
       "    </tr>\n",
       "    <tr>\n",
       "      <th>2529</th>\n",
       "      <td>I recently moved out on my ex-roommate because...</td>\n",
       "      <td>No Distortion</td>\n",
       "      <td>No Distortion</td>\n",
       "      <td>No Distortion</td>\n",
       "    </tr>\n",
       "  </tbody>\n",
       "</table>\n",
       "<p>2530 rows × 4 columns</p>\n",
       "</div>"
      ],
      "text/plain": [
       "                                       Patient Question  \\\n",
       "0     Hello, I have a beautiful,smart,outgoing and a...   \n",
       "1     Since I was about 16 years old I’ve had these ...   \n",
       "2      So I’ve been dating on and off this guy for a...   \n",
       "3     My parents got divorced in 2004. My mother has...   \n",
       "4     I don’t really know how to explain the situati...   \n",
       "...                                                 ...   \n",
       "2525  I’m a 21 year old female. I spent most of my l...   \n",
       "2526  I am 21 female and have not had any friends fo...   \n",
       "2527  From the U.S.: My brother is 19 years old and ...   \n",
       "2528  From the U.S.: I am a 21 year old woman who ha...   \n",
       "2529  I recently moved out on my ex-roommate because...   \n",
       "\n",
       "                                         Distorted part Dominant Distortion  \\\n",
       "0     The voice are always fimilar (someone she know...     Personalization   \n",
       "1     I feel trapped inside my disgusting self and l...            Labeling   \n",
       "2                                         No Distortion       No Distortion   \n",
       "3                                         No Distortion       No Distortion   \n",
       "4     I refused to go because I didn’t know if it wa...     Fortune-telling   \n",
       "...                                                 ...                 ...   \n",
       "2525                                      No Distortion       No Distortion   \n",
       "2526  Now I am at university my peers around me all ...  Overgeneralization   \n",
       "2527  He claims he’s severely depressed and has outb...       Mental filter   \n",
       "2528                                      No Distortion       No Distortion   \n",
       "2529                                      No Distortion       No Distortion   \n",
       "\n",
       "     Secondary Distortion (Optional)  \n",
       "0                      No Distortion  \n",
       "1                Emotional Reasoning  \n",
       "2                      No Distortion  \n",
       "3                      No Distortion  \n",
       "4                Emotional Reasoning  \n",
       "...                              ...  \n",
       "2525                   No Distortion  \n",
       "2526                   No Distortion  \n",
       "2527                    Mind Reading  \n",
       "2528                   No Distortion  \n",
       "2529                   No Distortion  \n",
       "\n",
       "[2530 rows x 4 columns]"
      ]
     },
     "execution_count": 23,
     "metadata": {},
     "output_type": "execute_result"
    }
   ],
   "source": [
    "distortion"
   ]
  },
  {
   "cell_type": "code",
   "execution_count": 24,
   "metadata": {},
   "outputs": [
    {
     "name": "stdout",
     "output_type": "stream",
     "text": [
      "Markdown file created successfully.\n"
     ]
    }
   ],
   "source": [
    "import pandas as pd\n",
    "\n",
    "# Load CSV file\n",
    "csv_file_path = \"Cognitive_Distortion.csv\"  # Change this to your actual CSV file path\n",
    "df = pd.read_csv(csv_file_path)\n",
    "\n",
    "# List to store markdown lines\n",
    "markdown_lines = []\n",
    "\n",
    "for i, row in df.iterrows():\n",
    "    markdown_lines.append(f\"## Case {i+1}\\n\")\n",
    "    markdown_lines.append(f\"### Patient Question\\n{row['Patient Question']}\\n\")\n",
    "    \n",
    "    # Distorted part\n",
    "    markdown_lines.append(\"### Distorted part\")\n",
    "    if pd.notna(row['Distorted part']):\n",
    "        markdown_lines.extend([f\"{part}\" for part in str(row['Distorted part']).split(\"\\n\")])\n",
    "    else:\n",
    "        markdown_lines.append(\"No Distortion\")\n",
    "    markdown_lines.append(\"\\n\")\n",
    "\n",
    "    # Dominant Distortion\n",
    "    markdown_lines.append(\"### Dominant Distortion\")\n",
    "    if pd.notna(row['Dominant Distortion']):\n",
    "        markdown_lines.append(f\"{row['Dominant Distortion']}\\n\")\n",
    "    else:\n",
    "        markdown_lines.append(\"No Distortion\\n\")\n",
    "\n",
    "    # Secondary Distortion (Optional)\n",
    "    markdown_lines.append(\"### Secondary Distortion\")\n",
    "    if pd.notna(row['Secondary Distortion (Optional)']):\n",
    "        markdown_lines.extend([f\"{part}\" for part in str(row['Secondary Distortion (Optional)']).split(\"\\n\")])\n",
    "    else:\n",
    "        markdown_lines.append(\"No Distortion\")\n",
    "    \n",
    "    markdown_lines.append(\"\\n\")  # Blank line between cases\n",
    "\n",
    "# Write markdown output to a file efficiently\n",
    "with open(\"output.md\", \"w\", encoding=\"utf-8\") as file:\n",
    "    file.write(\"\\n\".join(markdown_lines))\n",
    "\n",
    "print(\"Markdown file created successfully.\")\n"
   ]
  },
  {
   "cell_type": "code",
   "execution_count": 25,
   "metadata": {},
   "outputs": [],
   "source": [
    "import pandas as pd\n",
    "\n",
    "df = pd.read_csv(\"Cognitive_Distortion.csv\")  # Replace with your actual file path\n",
    "\n",
    "df.to_json(\"Cognitive_Distortion.json\", orient=\"records\", indent=4)"
   ]
  },
  {
   "cell_type": "code",
   "execution_count": null,
   "metadata": {},
   "outputs": [
    {
     "name": "stdout",
     "output_type": "stream",
     "text": [
      "Total cases: 31577\n"
     ]
    }
   ],
   "source": [
    "import json\n",
    "\n",
    "# Load JSON file\n",
    "with open(\"D:\\College\\SKRIPSI\\Code\\Dataset\\cactus.json\", \"r\", encoding=\"utf-8\") as file:\n",
    "    data = json.load(file)\n",
    "\n",
    "print(f\"Total cases: {len(data)}\")  # Check if JSON size is expected\n",
    "\n",
    "# Use a list instead of string concatenation for faster processing\n",
    "markdown_lines = []\n",
    "\n",
    "for i, case in enumerate(data, start=1):\n",
    "    markdown_lines.append(f\"## Case {i}\\n\")\n",
    "    markdown_lines.append(f\"### Thought\\n{case['thought']}\\n\")\n",
    "    \n",
    "    markdown_lines.append(\"### Patterns\")\n",
    "    markdown_lines.extend([f\"- {pattern}\" for pattern in case[\"patterns\"]])\n",
    "    markdown_lines.append(\"\\n\")\n",
    "    \n",
    "    markdown_lines.append(f\"### CBT Techniques\\n- {case['cbt_technique']}\\n\")\n",
    "    \n",
    "    markdown_lines.append(\"### CBT Plan\")\n",
    "    markdown_lines.extend([f\"{line}\" for line in case[\"cbt_plan\"].split(\"\\n\")])\n",
    "    markdown_lines.append(\"\\n\")\n",
    "    \n",
    "    markdown_lines.append(\"### Dialogue\")\n",
    "    \n",
    "    # Optimized dialogue formatting\n",
    "    for line in case[\"dialogue\"].splitlines():  # Faster than split(\"\\\\n\")\n",
    "        line = line.strip()\n",
    "        if line.startswith(\"Counselor:\"):\n",
    "            markdown_lines.append(f\"**Counselor**: {line[10:].strip()}\\n\")\n",
    "        elif line.startswith(\"Client:\"):\n",
    "            markdown_lines.append(f\"**Client**: {line[7:].strip()}\\n\")\n",
    "        else:\n",
    "            markdown_lines.append(line)\n",
    "\n",
    "# Write output to Markdown file efficiently\n",
    "with open(\"output.md\", \"w\", encoding=\"utf-8\") as file:\n",
    "    file.write(\"\\n\".join(markdown_lines))\n",
    "\n",
    "print(\"Markdown file created successfully.\")\n"
   ]
  },
  {
   "cell_type": "markdown",
   "metadata": {},
   "source": [
    "# Ollama Locally"
   ]
  },
  {
   "cell_type": "code",
   "execution_count": 1,
   "metadata": {},
   "outputs": [],
   "source": [
    "import requests\n",
    "import json"
   ]
  },
  {
   "cell_type": "code",
   "execution_count": 2,
   "metadata": {},
   "outputs": [],
   "source": [
    "def set_llama_params(\n",
    "    model=\"llama3.2:latest\",  # Make sure this model exists in Ollama\n",
    "    temperature=0.7,\n",
    "    max_tokens=256,\n",
    "    top_p=1\n",
    "):\n",
    "    \"\"\"Set parameters for Llama API (Ollama)\"\"\"\n",
    "    return {\n",
    "        \"model\": model,\n",
    "        \"temperature\": temperature,\n",
    "        \"max_tokens\": max_tokens,\n",
    "        \"top_p\": top_p\n",
    "    }\n",
    "\n",
    "def get_llama_completion(params, prompt):\n",
    "    \"\"\"Send a request to Ollama API and get a completion\"\"\"\n",
    "    \n",
    "    url = \"http://localhost:11434/api/generate\"  # Ollama API endpoint\n",
    "    \n",
    "    headers = {\n",
    "        \"Content-Type\": \"application/json\"\n",
    "    }\n",
    "\n",
    "    payload = {\n",
    "        \"model\": params[\"model\"],\n",
    "        \"prompt\": prompt,\n",
    "        \"temperature\": params[\"temperature\"],\n",
    "        \"max_tokens\": params[\"max_tokens\"],\n",
    "        \"top_p\": params[\"top_p\"],\n",
    "        \"stream\": False  # Set to False to get the full response at once\n",
    "    }\n",
    "    \n",
    "\n",
    "    response = requests.post(url, headers=headers, json=payload)\n",
    "\n",
    "    if response.status_code == 200:\n",
    "        return response.json()[\"response\"]\n",
    "    else:\n",
    "        raise Exception(f\"Error {response.status_code}: {response.text}\")"
   ]
  },
  {
   "cell_type": "code",
   "execution_count": null,
   "metadata": {},
   "outputs": [],
   "source": [
    "# Example usage\n",
    "params = set_llama_params()\n",
    "prompt = \"What is the capital of France?\"\n",
    "\n",
    "response = get_llama_completion(params, prompt)\n",
    "\n",
    "print(\"Llama Response:\", response)"
   ]
  },
  {
   "cell_type": "code",
   "execution_count": null,
   "metadata": {},
   "outputs": [],
   "source": [
    "prompt = \"\"\"Classify the sentiment of the following review as 'Positive', 'Negative', or 'Neutral'.\n",
    "\n",
    "Review: \"The product is amazing! I love using it every day.\"\n",
    "\n",
    "Sentiment: \"\"\"\n",
    "response = get_llama_completion(params, prompt)\n",
    "\n",
    "print(\"Llama Response:\", response)"
   ]
  },
  {
   "cell_type": "markdown",
   "metadata": {},
   "source": [
    "# Classification"
   ]
  },
  {
   "cell_type": "code",
   "execution_count": 30,
   "metadata": {},
   "outputs": [
    {
     "name": "stdout",
     "output_type": "stream",
     "text": [
      "Train: 1518, Test: 1012\n"
     ]
    }
   ],
   "source": [
    "import json\n",
    "from sklearn.model_selection import train_test_split\n",
    "\n",
    "with open(\"D:\\College\\SKRIPSI\\Code\\Dataset\\Cognitive_Distortion.json\", \"r\") as f:\n",
    "    data = json.load(f)\n",
    "\n",
    "train_data, test_data = train_test_split(data, test_size=0.4, random_state=42)\n",
    "\n",
    "with open(\"train.json\", \"w\") as f:\n",
    "    json.dump(train_data, f, indent=4)\n",
    "\n",
    "with open(\"test.json\", \"w\") as f:\n",
    "    json.dump(test_data, f, indent=4)\n",
    "\n",
    "print(f\"Train: {len(train_data)}, Test: {len(test_data)}\")"
   ]
  },
  {
   "cell_type": "code",
   "execution_count": 139,
   "metadata": {},
   "outputs": [
    {
     "name": "stdout",
     "output_type": "stream",
     "text": [
      "Available Collections: ['train_memory']\n"
     ]
    }
   ],
   "source": [
    "import chromadb\n",
    "\n",
    "# Connect to ChromaDB (ensure you have the correct path)\n",
    "chroma_client = chromadb.PersistentClient(path=\"cognitive_distortions_db\")  # Adjust path if needed\n",
    "\n",
    "# List all collections\n",
    "collections = chroma_client.list_collections()\n",
    "print(\"Available Collections:\", collections)  # ✅ Prints collection names correctly\n"
   ]
  },
  {
   "cell_type": "markdown",
   "metadata": {},
   "source": [
    "# Using API KEY"
   ]
  },
  {
   "cell_type": "markdown",
   "metadata": {},
   "source": [
    "### Test API"
   ]
  },
  {
   "cell_type": "code",
   "execution_count": 45,
   "metadata": {},
   "outputs": [],
   "source": [
    "from llamaapi import LlamaAPI\n",
    "import os\n",
    "import IPython\n",
    "# from langchain.llms import OpenAI\n",
    "from dotenv import load_dotenv\n",
    "import requests\n",
    "import json "
   ]
  },
  {
   "cell_type": "code",
   "execution_count": 46,
   "metadata": {},
   "outputs": [],
   "source": [
    "load_dotenv()\n",
    "\n",
    "os.environ[\"LLAMA_API_KEY\"] = \"sk-839d3cb170114ab8b0072ec4fe56f315\"\n",
    "api_key = os.getenv(\"LLAMA_API_KEY\")"
   ]
  },
  {
   "cell_type": "code",
   "execution_count": null,
   "metadata": {},
   "outputs": [],
   "source": [
    "def set_llama_params(\n",
    "    model=\"llama3.3:latest\",  # Update model name\n",
    "    temperature=0,\n",
    "    max_tokens=256,\n",
    "    top_p=1,\n",
    "    frequency_penalty=0,\n",
    "    presence_penalty=0,\n",
    "):\n",
    "    \"\"\"Set parameters for Llama API\"\"\"\n",
    "\n",
    "    llama_params = {\n",
    "        \"model\": model,\n",
    "        \"temperature\": temperature,\n",
    "        \"max_tokens\": max_tokens,\n",
    "        \"top_p\": top_p,\n",
    "        \"frequency_penalty\": frequency_penalty,\n",
    "        \"presence_penalty\": presence_penalty,\n",
    "    }\n",
    "    return llama_params\n",
    "\n",
    "def get_llama_completion(params, messages):\n",
    "    \"\"\"GET completion from Llama API\"\"\"\n",
    "\n",
    "    url = url = \"https://api-llm.ub.ac.id/api/chat/completions\"  # Change this based on your provider\n",
    "\n",
    "    headers = {\n",
    "        \"Authorization\": f\"Bearer {os.getenv('LLAMA_API_KEY')}\",  # Ensure API key is set\n",
    "        \"Content-Type\": \"application/json\"\n",
    "    }\n",
    "\n",
    "    payload = {\n",
    "        \"model\": params[\"model\"],\n",
    "        \"messages\": messages,\n",
    "        \"temperature\": params[\"temperature\"],\n",
    "        \"max_tokens\": params[\"max_tokens\"],\n",
    "        \"top_p\": params[\"top_p\"],\n",
    "    }\n",
    "\n",
    "    response = requests.post(url, headers=headers, json=payload)\n",
    "\n",
    "    if response.status_code == 200:\n",
    "        return response.json()\n",
    "    else:\n",
    "        raise Exception(f\"Error {response.status_code}: {response.text}\")"
   ]
  },
  {
   "cell_type": "code",
   "execution_count": 116,
   "metadata": {},
   "outputs": [],
   "source": [
    "# basic example\n",
    "params = set_llama_params()\n",
    "\n",
    "prompt = \"how similar is eye and nose\"\n",
    "\n",
    "messages = [\n",
    "    {\n",
    "        \"role\": \"user\",\n",
    "        \"content\": prompt\n",
    "    }\n",
    "]\n",
    "\n",
    "response = get_llama_completion(params, messages)\n",
    "output = response['choices'][0]['message']['content']"
   ]
  },
  {
   "cell_type": "code",
   "execution_count": null,
   "metadata": {},
   "outputs": [],
   "source": [
    "print(output)"
   ]
  },
  {
   "cell_type": "markdown",
   "metadata": {},
   "source": [
    "### RAG Distortion_Cognitive"
   ]
  },
  {
   "cell_type": "code",
   "execution_count": 153,
   "metadata": {},
   "outputs": [],
   "source": [
    "def retrieve_similar_cases(input_text, top_k=3):\n",
    "    \"\"\"Retrieve most similar cases from ChromaDB\"\"\"\n",
    "    collection = chroma_client.get_collection(\"train_memory\")  # Explicitly retrieve collection\n",
    "    input_embedding = embedder.encode(input_text).tolist()\n",
    "\n",
    "    results = collection.query(\n",
    "        query_embeddings=[input_embedding],\n",
    "        n_results=top_k\n",
    "    )\n",
    "    results = [(meta[\"dominant_distortion\"], meta[\"secondary_distortion\"]) \n",
    "                   for meta in results[\"metadatas\"][0]] \n",
    "    return results"
   ]
  },
  {
   "cell_type": "code",
   "execution_count": 141,
   "metadata": {},
   "outputs": [],
   "source": [
    "# First, ensure you have the correct collection reference\n",
    "collection = chroma_client.get_collection(\"train_memory\")  # Replace with your actual collection name\n",
    "\n",
    "# Retrieve a sample of stored data\n",
    "# all_data = collection.get()  # Fetch all stored documents\n",
    "\n",
    "# # Limit output to a small chunk\n",
    "# sample_size = 1518  # Change to any number of cases you want\n",
    "# for i, (doc, meta) in enumerate(zip(all_data[\"documents\"][:sample_size], all_data[\"metadatas\"][:sample_size])):\n",
    "#     # Remove \"patient_question\" from metadata before printing\n",
    "#     meta_filtered = {k: v for k, v in meta.items() if k != \"patient_question\"}\n",
    "\n",
    "#     print(f\"\\n---- Stored Document {i+1} ----\")\n",
    "#     print(\"Text:\", doc[:500])  # Show only the first 500 characters\n",
    "#     print(\"Metadata:\", meta_filtered)\n"
   ]
  },
  {
   "cell_type": "code",
   "execution_count": 142,
   "metadata": {},
   "outputs": [
    {
     "name": "stdout",
     "output_type": "stream",
     "text": [
      "Predicted Distortion: Based on the provided text, here is the classification:\n",
      "\n",
      "\"Distorted part\": \"My beliefs are very odd, I’ve never been able to fit in my social environment and I never felt like I could, like I always needed to play a roll to fit, to put on a mask and act, and I must add that I don’t feel any desire to fit in, nor to have close relationships and I never feel comfortable with affection, or physical interaction.\",\n",
      "\"Dominant Distortion\": \"Should statements\",\n",
      "\"Secondary Distortion (Optional)\": \"Personalization\"\n",
      "\n",
      "This classification is based on the similarity between the input text and the first case in the provided list. The distorted part of the text suggests that the patient has a negative self-image and feels like they don't fit in, which is similar to the first case. The dominant distortion is classified as \"Should statements\" because the patient feels like they should be able to fit in or have close relationships, but they don't. The secondary distortion is classified as \"Personalization\" because the patient takes their inability to fit in personally and feels like there's something wrong with them.\n"
     ]
    }
   ],
   "source": [
    "def classify_with_rag(input_text):\n",
    "    \"\"\"Use LLaMA API with retrieved cases as context\"\"\"\n",
    "\n",
    "    # Retrieve past cases\n",
    "    retrieved_context = retrieve_similar_cases(input_text)\n",
    "\n",
    "    # Construct prompt\n",
    "    prompt = f\"\"\"\n",
    "    Here are past cases similar to the input:\n",
    "    {retrieved_context}\n",
    "\n",
    "    Now classify the following new input:\n",
    "    \"{input_text}\"\n",
    "    Provide the dominant cognitive distortion, secondary distortion if there's any, and the distorted part with this format:\n",
    "    \"Distorted part\": ,\n",
    "    \"Dominant Distortion\": ,\n",
    "    \"Secondary Distortion (Optional)\": \n",
    "\n",
    "    Example:\n",
    "    \"Distorted part\": \"At times I really do feel like I\\u2019m going crazy and I also feel that I can\\u2019t really talk to anyone about this because they\\u2019ll either think I\\u2019m being attention seeking or overly dramatic, however I don\\u2019t think either of these things are true and I do generally feel like I\\u2019m totally lost with finding a solution to this problem.\",\n",
    "    \"Dominant Distortion\": \"Mind Reading\",\n",
    "    \"Secondary Distortion (Optional)\": \"No Distortion\"\n",
    "    \"\"\"\n",
    "\n",
    "    # Call LLaMA API\n",
    "    params = set_llama_params()\n",
    "    response = get_llama_completion(params, [{\"role\": \"user\", \"content\": prompt}])\n",
    "\n",
    "    return response[\"choices\"][0][\"message\"][\"content\"]\n",
    "\n",
    "\n",
    "# Example test case\n",
    "test_case = \"From years now I\\u2019ve been suffering from something unknown to me, and I\\u2019ve spent a long time doing some research to find on my own, I know that I really need to see a professional. I\\u2019ve been dealing with self-injury since I was like eleven, I don\\u2019t know how to explain it but it always felt like someone/something was always in the back of my mind telling me to do it because I deserved it. My beliefs are very odd, I\\u2019ve never been able to fit in my social environment and I never felt like I could, like I always needed to play a roll to fit, to put on a mask and act, and I must add that I don\\u2019t feel any desire to fit in, nor to have close relationships and I never feel comfortable with affection, or physical interaction.\"\n",
    "prediction = classify_with_rag(test_case)\n",
    "print(\"Predicted Distortion:\", prediction)\n"
   ]
  },
  {
   "cell_type": "code",
   "execution_count": 154,
   "metadata": {},
   "outputs": [],
   "source": [
    "test = retrieve_similar_cases(test_case)"
   ]
  },
  {
   "cell_type": "code",
   "execution_count": 155,
   "metadata": {},
   "outputs": [
    {
     "data": {
      "text/plain": [
       "[('Should statements', 'Personalization'),\n",
       " ('All-or-nothing thinking', 'Mind Reading'),\n",
       " ('Emotional Reasoning', 'No Distortion')]"
      ]
     },
     "execution_count": 155,
     "metadata": {},
     "output_type": "execute_result"
    }
   ],
   "source": [
    "test"
   ]
  },
  {
   "cell_type": "code",
   "execution_count": null,
   "metadata": {},
   "outputs": [
    {
     "name": "stdout",
     "output_type": "stream",
     "text": [
      "Predicted Distortion: Here's the classification for the new input:\n",
      "\n",
      "\"Distorted part\": \"People will probably always think I am weird.\",\n",
      "\"Dominant Distortion\": \"Mind Reading\",\n",
      "\"Secondary Distortion (Optional)\": \"No Distortion\"\n",
      "\n",
      "Explanation: \n",
      "The dominant distortion is Mind Reading because the speaker assumes they know what others will think about them, specifically that they will think the speaker is \"weird\". This assumption is not based on any concrete evidence and reflects a tendency to attribute one's own thoughts or beliefs to others. \n",
      "\n",
      "There is no apparent secondary distortion in this case. The statement seems to be a straightforward expression of the speaker's concern about what others might think, without involving other cognitive distortions such as magnification, minimization, or emotional reasoning.\n"
     ]
    }
   ],
   "source": [
    "def classify_with_rag(input_text):\n",
    "    \"\"\"Use LLaMA API with retrieved cases as context\"\"\"\n",
    "\n",
    "    # Retrieve past cases\n",
    "    retrieved_context = retrieve_similar_cases(input_text)\n",
    "\n",
    "    # Construct prompt\n",
    "    prompt = f\"\"\"\n",
    "    Here are past cases similar to the input:\n",
    "    {retrieved_context}\n",
    "\n",
    "    Now classify the following new input:\n",
    "    \"{input_text}\"\n",
    "    Provide the dominant cognitive distortion, secondary distortion if there's any, and the distorted part with this format:\n",
    "    \"Distorted part\": ,\n",
    "    \"Dominant Distortion\": ,\n",
    "    \"Secondary Distortion (Optional)\": \n",
    "\n",
    "    Example:\n",
    "    \"Distorted part\": \"At times I really do feel like I\\u2019m going crazy and I also feel that I can\\u2019t really talk to anyone about this because they\\u2019ll either think I\\u2019m being attention seeking or overly dramatic, however I don\\u2019t think either of these things are true and I do generally feel like I\\u2019m totally lost with finding a solution to this problem.\",\n",
    "    \"Dominant Distortion\": \"Mind Reading\",\n",
    "    \"Secondary Distortion (Optional)\": \"No Distortion\"\n",
    "    \"\"\"\n",
    "\n",
    "    # Call LLaMA API\n",
    "    params = set_llama_params()\n",
    "    response = get_llama_completion(params, [{\"role\": \"user\", \"content\": prompt}])\n",
    "\n",
    "    return response[\"choices\"][0][\"message\"][\"content\"]\n",
    "\n",
    "\n",
    "# Example test case\n",
    "test_case = \"I'm really into my crystals. People will probably always think I am weird.\"\n",
    "prediction = classify_with_rag(test_case)\n",
    "print(\"Predicted Distortion:\", prediction)\n"
   ]
  },
  {
   "cell_type": "markdown",
   "metadata": {},
   "source": [
    "### dfdd"
   ]
  },
  {
   "cell_type": "code",
   "execution_count": null,
   "metadata": {},
   "outputs": [],
   "source": [
    "# Retrieve all stored cases\n",
    "all_data = collection.get()\n",
    "\n",
    "# Display a few cases\n",
    "sample_size = 3  # Adjust as needed\n",
    "for i, (doc, meta) in enumerate(zip(all_data[\"documents\"][:sample_size], all_data[\"metadatas\"][:sample_size])):\n",
    "    print(f\"\\n---- Stored Document {i+1} ----\")\n",
    "    print(\"Thought:\", doc[:500])\n",
    "    print(\"CBT Plan:\",  meta.get(\"cbt_plan\", \"N/A\"))  # Show first 500 characters\n",
    "    print(\"CBT Techniques:\", meta.get(\"cbt_techniques\", \"N/A\"))\n",
    "    print(\"Patterns (Distortions):\", meta.get(\"patterns\", \"N/A\"))\n",
    "    print(\"Dialogue Example:\", meta.get(\"dialogue\", \"N/A\"))\n"
   ]
  },
  {
   "cell_type": "code",
   "execution_count": 126,
   "metadata": {},
   "outputs": [],
   "source": [
    "def retrieve_similar_cases_2(input_thought, top_k=3):\n",
    "    # Encode the input thought\n",
    "    query_embedding = embedder.encode(input_thought).tolist()\n",
    "    \n",
    "    # Search in ChromaDB\n",
    "    results = collection.query(\n",
    "        query_embeddings=[query_embedding],\n",
    "        n_results=top_k\n",
    "    )\n",
    "\n",
    "    retrieved_cases = []\n",
    "    for doc,meta in zip(results[\"documents\"][0], results[\"metadatas\"][0]):  # Access first query result\n",
    "        retrieved_cases.append({\n",
    "            \"thought\": doc,\n",
    "            \"Case Number\": meta[\"case_number\"],\n",
    "            \"Patterns\": meta[\"patterns\"],\n",
    "            \"CBT Techniques\": meta[\"cbt_techniques\"],\n",
    "            \"CBT Plan\": meta[\"cbt_plan\"],\n",
    "            \"Dialogue\": meta[\"dialogue\"]\n",
    "        })\n",
    "    \n",
    "    return retrieved_cases"
   ]
  },
  {
   "cell_type": "code",
   "execution_count": 132,
   "metadata": {},
   "outputs": [
    {
     "name": "stdout",
     "output_type": "stream",
     "text": [
      "Counselor: It's understandable that having strong preferences can sometimes lead to self-criticism. Can you tell me more about what specifically bothers you about being picky, and how that makes you feel about yourself? Is it the feeling of not meeting certain expectations or something else entirely?\n"
     ]
    }
   ],
   "source": [
    "def classify_with_rag_2(input_text):\n",
    "    \"\"\"Use LLaMA API with retrieved cases as context\"\"\"\n",
    "\n",
    "    # Retrieve past cases\n",
    "    retrieved_context = retrieve_similar_cases_2(input_text)\n",
    "\n",
    "    # Construct prompt\n",
    "    prompt = f\"\"\"\n",
    "    Here are past cases similar to the input:\n",
    "    {retrieved_context}\n",
    "\n",
    "    Now pick the following new input the best CBT plan and CBT Technique and based on that give a response to it only as a counselor:\n",
    "    \"{input_text}\"\n",
    "    example:\n",
    "    Counselor: That sounds quite stressful. When did you first start noticing these feelings?\n",
    "    \"\"\"\n",
    "\n",
    "    # Call LLaMA API\n",
    "    params = set_llama_params()\n",
    "    response = get_llama_completion(params, [{\"role\": \"user\", \"content\": prompt}])\n",
    "\n",
    "    return response[\"choices\"][0][\"message\"][\"content\"]\n",
    "\n",
    "\n",
    "# Example test case\n",
    "test_case = \"I'm very athletic but I hate carrots, I am so picky and I hate myself.\"\n",
    "prediction = classify_with_rag_2(test_case)\n",
    "print(prediction)\n"
   ]
  },
  {
   "cell_type": "markdown",
   "metadata": {},
   "source": []
  },
  {
   "cell_type": "code",
   "execution_count": null,
   "metadata": {},
   "outputs": [],
   "source": []
  },
  {
   "cell_type": "markdown",
   "metadata": {},
   "source": [
    "### Test Final"
   ]
  },
  {
   "cell_type": "code",
   "execution_count": null,
   "metadata": {},
   "outputs": [
    {
     "name": "stderr",
     "output_type": "stream",
     "text": [
      "d:\\College\\SKRIPSI\\Code\\venv\\Lib\\site-packages\\tqdm\\auto.py:21: TqdmWarning: IProgress not found. Please update jupyter and ipywidgets. See https://ipywidgets.readthedocs.io/en/stable/user_install.html\n",
      "  from .autonotebook import tqdm as notebook_tqdm\n"
     ]
    },
    {
     "name": "stdout",
     "output_type": "stream",
     "text": [
      "Train dataset successfully stored in ChromaDB!\n",
      "Sample Metadata from ChromaDB: {'ids': ['0'], 'embeddings': None, 'documents': None, 'uris': None, 'data': None, 'metadatas': [{'distorted_part': 'I basically just feel like my whole life has been taken away and I can’t stop thinking about him. I literally think about him 24/7 and feel an unbearable pain every time I think about him and it’s just too much.', 'dominant_distortion': 'Magnification', 'patient_question': 'Me and my ex have been broken up for 2 years now. We met when I was a senior in high school 18yo and he was 21. About 2 and a half years older. We broke up because he had to leave Florida for a job in Chicago after college and I was told that’s the only reason. Our relationship was going good and we both really liked each other but apparently he liked the thought of the job and his potential life in Chicago more or maybe he felt it was just something he had to do. 2 months before he had to move away he broke up with me because he realized he was probably going to move away and he didn’t want to hurt me anymore than he had to and thought it’d be smart to end it earlier than later. I freaked out and basically lost my mind and was beyond depressed until we got back together. He texted me telling me he missed me and we got back together until right before he had to move. Ever since he moved and away and we broke up I’ve been severely depressed and even felt suicidal at times. I basically just feel like my whole life has been taken away and I can’t stop thinking about him. I literally think about him 24/7 and feel an unbearable pain every time I think about him and it’s just too much. Usually people take a bit and get over their ex, but it’s been 2 years and I still would do anything for me and him to get back together. I still think about him first thing when I wake up and last thing before I go to bed and I don’t know why I’m so obsessed with him. He was just an average looking (to most people) very nice normal guy that was going to college and as soon as I met him I instantly fell in love. I’ve tried everything possible but I just can’t get over him and I seriously need help. This is the worst pain I’ve ever felt in my life and it’s all day every day. Please help.', 'secondary_distortion': 'No Distortion'}], 'included': [<IncludeEnum.metadatas: 'metadatas'>]}\n"
     ]
    }
   ],
   "source": [
    "import chromadb\n",
    "from sentence_transformers import SentenceTransformer\n",
    "import json\n",
    "\n",
    "embedder = SentenceTransformer(\"all-MiniLM-L6-v2\")\n",
    "\n",
    "chroma_client = chromadb.PersistentClient(path=\"./cognitive_distortions_db\")\n",
    "collection = chroma_client.get_or_create_collection(name=\"train_memory\")\n",
    "\n",
    "with open(\"train.json\", \"r\") as f:\n",
    "    train_data = json.load(f)\n",
    "\n",
    "for idx, case in enumerate(train_data):\n",
    "    embedding = embedder.encode(case[\"Patient Question\"]).tolist()  # Convert to list\n",
    "    collection.add(\n",
    "        embeddings=[embedding],\n",
    "        documents=[case[\"Patient Question\"]],\n",
    "        metadatas=[{\n",
    "            \"patient_question\": case[\"Patient Question\"],\n",
    "            \"distorted_part\": case[\"Distorted part\"],\n",
    "            \"dominant_distortion\": case[\"Dominant Distortion\"],\n",
    "            \"secondary_distortion\": case[\"Secondary Distortion (Optional)\"]\n",
    "        }],\n",
    "        ids=[str(idx)]\n",
    "    )\n",
    "\n",
    "print(\"Train dataset successfully stored in ChromaDB!\")\n",
    "\n",
    "sample_metadata = collection.get(ids=[\"0\"], include=[\"metadatas\"])\n",
    "print(\"Sample Metadata from ChromaDB:\", sample_metadata)\n"
   ]
  },
  {
   "cell_type": "code",
   "execution_count": null,
   "metadata": {},
   "outputs": [
    {
     "name": "stdout",
     "output_type": "stream",
     "text": [
      "CBT dataset stored in ChromaDB!\n"
     ]
    }
   ],
   "source": [
    "import re\n",
    "import chromadb\n",
    "from sentence_transformers import SentenceTransformer\n",
    "\n",
    "embedder = SentenceTransformer(\"all-MiniLM-L6-v2\")\n",
    "\n",
    "chroma_client = chromadb.PersistentClient(path=\"./cognitive_cbt_db\")\n",
    "collection = chroma_client.get_or_create_collection(name=\"cbt_techniques\")\n",
    "\n",
    "with open(\"D:\\College\\SKRIPSI\\Code\\Dataset\\Labeled_Dialogue_Dataset.md\", \"r\", encoding=\"utf-8\") as f:\n",
    "    md_content = f.read()\n",
    "\n",
    "cases = md_content.split(\"## Case \")\n",
    "\n",
    "for case in cases[1:]: \n",
    "    case_number_match = re.search(r\"(\\d+)\", case)\n",
    "    thought_match = re.search(r\"### Thought\\n(.+?)\\n\\n\", case, re.DOTALL)\n",
    "    patterns_match = re.search(r\"### Patterns\\n- (.+?)\\n\\n\", case, re.DOTALL)\n",
    "    techniques_match = re.search(r\"### CBT Techniques\\n- (.+?)\\n\\n\", case, re.DOTALL)\n",
    "    plan_match = re.search(r\"### CBT Plan\\n(.+?)\\n\\n### Dialogue\", case, re.DOTALL)\n",
    "    dialogue_match = re.search(r\"### Dialogue\\n(.+)\", case, re.DOTALL)\n",
    "\n",
    "    case_number = case_number_match.group(1) if case_number_match else \"Unknown\"\n",
    "    thought = thought_match.group(1).strip() if thought_match else \"N/A\"\n",
    "    patterns = patterns_match.group(1).strip().split(\"\\n- \") if patterns_match else []\n",
    "    cbt_techniques = techniques_match.group(1).strip().split(\"\\n- \") if techniques_match else []\n",
    "    cbt_plan = plan_match.group(1).strip() if plan_match else \"N/A\"\n",
    "    dialogue = dialogue_match.group(1).strip() if dialogue_match else \"N/A\"\n",
    "\n",
    "    patterns_str = \", \".join(patterns)\n",
    "    cbt_techniques_str = \", \".join(cbt_techniques)\n",
    "\n",
    "    embedding = embedder.encode(thought).tolist()\n",
    "\n",
    "    collection.add(\n",
    "        embeddings=[embedding],\n",
    "        documents=[thought],  # Store the thought as the searchable text\n",
    "        metadatas=[{\n",
    "            \"case_number\": case_number,\n",
    "            \"patterns\": patterns_str,\n",
    "            \"cbt_techniques\": cbt_techniques_str,\n",
    "            \"cbt_plan\": cbt_plan,\n",
    "            \"dialogue\": dialogue\n",
    "        }],\n",
    "        ids=[case_number]\n",
    "    )\n",
    "\n",
    "print(\"CBT dataset stored in ChromaDB!\")\n"
   ]
  },
  {
   "cell_type": "code",
   "execution_count": 138,
   "metadata": {},
   "outputs": [
    {
     "name": "stdout",
     "output_type": "stream",
     "text": [
      "Available Collections: ['cbt_plans']\n"
     ]
    }
   ],
   "source": [
    "import chromadb\n",
    "\n",
    "# Connect to ChromaDB (ensure you have the correct path)\n",
    "chroma_client = chromadb.PersistentClient(path=\"cbt_knowledge_db\")  # Adjust path if needed\n",
    "\n",
    "# List all collections\n",
    "collections = chroma_client.list_collections()\n",
    "print(\"Available Collections:\", collections)  # ✅ Prints collection names correctly\n"
   ]
  },
  {
   "cell_type": "code",
   "execution_count": 166,
   "metadata": {},
   "outputs": [],
   "source": [
    "from llamaapi import LlamaAPI\n",
    "import os\n",
    "import IPython\n",
    "# from langchain.llms import OpenAI\n",
    "from dotenv import load_dotenv\n",
    "import requests\n",
    "import json "
   ]
  },
  {
   "cell_type": "code",
   "execution_count": 167,
   "metadata": {},
   "outputs": [],
   "source": [
    "chroma_client = chromadb.PersistentClient(path=\"cbt_knowledge_db\")\n",
    "chroma_client_2 = chromadb.PersistentClient(path=\"cognitive_distortions_db\") "
   ]
  },
  {
   "cell_type": "code",
   "execution_count": 168,
   "metadata": {},
   "outputs": [],
   "source": [
    "load_dotenv()\n",
    "\n",
    "os.environ[\"LLAMA_API_KEY\"] = \"sk-839d3cb170114ab8b0072ec4fe56f315\"\n",
    "api_key = os.getenv(\"LLAMA_API_KEY\")"
   ]
  },
  {
   "cell_type": "code",
   "execution_count": null,
   "metadata": {},
   "outputs": [],
   "source": [
    "def set_llama_params(\n",
    "    model=\"llama3.3:latest\",\n",
    "    temperature=0,\n",
    "    max_tokens=256,\n",
    "    top_p=1,\n",
    "    frequency_penalty=0,\n",
    "    presence_penalty=0,\n",
    "):\n",
    "    \"\"\"Set parameters for Llama API\"\"\"\n",
    "\n",
    "    llama_params = {\n",
    "        \"model\": model,\n",
    "        \"temperature\": temperature,\n",
    "        \"max_tokens\": max_tokens,\n",
    "        \"top_p\": top_p,\n",
    "        \"frequency_penalty\": frequency_penalty,\n",
    "        \"presence_penalty\": presence_penalty,\n",
    "    }\n",
    "    return llama_params\n",
    "\n",
    "def get_llama_completion(params, messages):\n",
    "    \"\"\"GET completion from Llama API\"\"\"\n",
    "\n",
    "    url = url = \"https://api-llm.ub.ac.id/api/chat/completions\"  # Change this based on your provider\n",
    "\n",
    "    headers = {\n",
    "        \"Authorization\": f\"Bearer {os.getenv('LLAMA_API_KEY')}\",  # Ensure API key is set\n",
    "        \"Content-Type\": \"application/json\"\n",
    "    }\n",
    "\n",
    "    payload = {\n",
    "        \"model\": params[\"model\"],\n",
    "        \"messages\": messages,\n",
    "        \"temperature\": params[\"temperature\"],\n",
    "        \"max_tokens\": params[\"max_tokens\"],\n",
    "        \"top_p\": params[\"top_p\"],\n",
    "    }\n",
    "\n",
    "    response = requests.post(url, headers=headers, json=payload)\n",
    "\n",
    "    if response.status_code == 200:\n",
    "        return response.json()\n",
    "    else:\n",
    "        raise Exception(f\"Error {response.status_code}: {response.text}\")"
   ]
  },
  {
   "cell_type": "code",
   "execution_count": 170,
   "metadata": {},
   "outputs": [],
   "source": [
    "def retrieve_distortion_cognitive(input_text, top_k=3):\n",
    "    \"\"\"Retrieve most similar cases from ChromaDB\"\"\"\n",
    "    collection = chroma_client_2.get_collection(\"train_memory\")  # Explicitly retrieve collection\n",
    "    input_embedding = embedder.encode(input_text).tolist()\n",
    "\n",
    "    results = collection.query(\n",
    "        query_embeddings=[input_embedding],\n",
    "        n_results=top_k\n",
    "    )\n",
    "    results = [f\"{meta['dominant_distortion']}, {meta['secondary_distortion']}\" \n",
    "                   for meta in results[\"metadatas\"][0]]\n",
    "    return results"
   ]
  },
  {
   "cell_type": "code",
   "execution_count": null,
   "metadata": {},
   "outputs": [],
   "source": [
    "import numpy as np \n",
    "\n",
    "def retrieve_CBT(input_thought, retrieved_distortion_cognitive, top_k=3):\n",
    "    collection = chroma_client.get_collection(\"cbt_plans\")\n",
    "    thought_embedding = embedder.encode(input_thought)\n",
    "    distortion_embedding = embedder.encode(retrieved_distortion_cognitive)\n",
    "\n",
    "    # similarity_score = cosine_similarity(thought_embedding, distortion_embedding)[0][0]\n",
    "\n",
    "    combined_embedding = (np.array(thought_embedding) + np.array(distortion_embedding)) / 2\n",
    "    combined_embedding = combined_embedding\n",
    "\n",
    "    results = collection.query(\n",
    "        query_embeddings=combined_embedding.tolist(),\n",
    "        n_results=top_k\n",
    "    )\n",
    "\n",
    "    retrieved_cases = []\n",
    "    for doc,meta in zip(results[\"documents\"][0], results[\"metadatas\"][0]):  # Access first query result\n",
    "        retrieved_cases.append({\n",
    "            \"thought\": doc,\n",
    "            \"Case Number\": meta[\"case_number\"],\n",
    "            \"Patterns\": meta[\"patterns\"],\n",
    "            \"CBT Techniques\": meta[\"cbt_techniques\"],\n",
    "            \"CBT Plan\": meta[\"cbt_plan\"],\n",
    "            \"Dialogue\": meta[\"dialogue\"]\n",
    "        })\n",
    "    \n",
    "    return retrieved_cases"
   ]
  },
  {
   "cell_type": "code",
   "execution_count": 175,
   "metadata": {},
   "outputs": [
    {
     "name": "stdout",
     "output_type": "stream",
     "text": [
      "### **Final Response:**\n",
      "\n",
      "Classified Cognitive Distortion 1: Emotional Reasoning\n",
      "Reasoning 1: The individual is assuming that their preference for a common color like blue will lead others to perceive them as boring, which is an emotional conclusion based on an assumption rather than factual evidence.\n",
      "\n",
      "Classified Cognitive Distortion 2: Labeling\n",
      "Reasoning 2: The thought process involves labeling oneself (\"boring\") based on a single characteristic (liking the color blue), which simplifies and misrepresents the complexity of one's personality or character.\n",
      "\n",
      "CBT Technique: Cognitive Restructuring\n",
      "CBT Plan:\n",
      "1. **Identify Distorted Thoughts**: Help the client recognize when they are engaging in emotional reasoning or labeling by identifying and listing their thoughts, especially those that lead to feelings of boredom or inadequacy.\n",
      "2. **Challenge Assumptions**: Encourage the client to question the evidence for their assumptions (e.g., \"Is there any real evidence that people will think I'm boring because my favorite color is blue?\").\n",
      "3. **Practice Alternative Thoughts**: Assist the client in generating more balanced and realistic thoughts to replace distorted ones (e.g., \"Many people like blue, and it's a common favorite color for good reasons; it doesn't define my personality or interests\").\n",
      "4. **Rehearse New Responses**: Role-play different scenarios where the client can practice responding differently to similar situations, reinforcing new thought patterns.\n",
      "5. **Monitor Progress**: Regularly review with the client how they feel about their preferences and how others perceive them, noting any shifts in their emotional responses over time.\n",
      "\n",
      "Counselor Response:\n",
      "\"It sounds like you're worried that your preference for the color blue might give people a certain impression of you. Can you tell me more about why you think liking blue would make someone seem boring? Have you had experiences where people have reacted negatively to your favorite color, or is this more of a general concern?\"\n"
     ]
    }
   ],
   "source": [
    "def response_prompt(input_text):\n",
    "    \"\"\"Use LLaMA API with retrieved cases as context\"\"\"\n",
    "\n",
    "    retrieved_distortion_cognitive = retrieve_distortion_cognitive(input_text)\n",
    "    retrieved_CBT = retrieve_CBT(input_text, retrieved_distortion_cognitive)\n",
    "\n",
    "\n",
    "    prompt = f\"\"\"\n",
    "    ### Task 1: Classify the Cognitive Distortion  \n",
    "    Analyze the input thought and classify it based on this similar past cases and give it's reasoning:  \n",
    "    {retrieved_distortion_cognitive}\n",
    "\n",
    "    **Input Thought:**  \n",
    "    \"{input_text}\"  \n",
    "\n",
    "    **Output Format:**  \n",
    "    - **Cognitive Distortion:** [first classification], [second classification] \n",
    "\n",
    "    ---\n",
    "\n",
    "    ### Task 2: Retrieve Similar Cases \n",
    "    Here are past cases with similar thoughts and distortions:  \n",
    "    {retrieved_CBT}  \n",
    "\n",
    "    ---\n",
    "\n",
    "    ### Task 3: Counselor Response  \n",
    "    Now, using the most relevant CBT Plan and CBT Techniques, generate a response as a **counselor** addressing the thought with empathy and a therapeutic approach.  \n",
    "\n",
    "    **Example Format:**  \n",
    "    Counselor: That sounds quite stressful. When did you first start noticing these feelings?  \n",
    "\n",
    "    ---\n",
    "    Give final response in this format:\n",
    "    ### **Final Response:**  \n",
    "    Classified Cognitive Distortion 1:\n",
    "    Reasoning 1:\n",
    "    Classified Cognitive Distortion 2:\n",
    "    Reasoning 2:\n",
    "    Classified Cognitive Distortion (n):\n",
    "    Reasoning (n):\n",
    "\n",
    "    CBT Techninque:\n",
    "    CBT Plan:\n",
    "    1. \n",
    "    2.\n",
    "    3.\n",
    "    ...\n",
    "    (n)\n",
    "\n",
    "    Counselor Response:\n",
    "    \"\"\"\n",
    "\n",
    "    params = set_llama_params()\n",
    "    response = get_llama_completion(params, [{\"role\": \"user\", \"content\": prompt}])\n",
    "\n",
    "    return response[\"choices\"][0][\"message\"][\"content\"]\n",
    "\n",
    "\n",
    "test_case = \"My favorite color is blue but  that seems like such a common color to like, people will think i'm boring\"\n",
    "prediction = response_prompt(test_case)\n",
    "print(prediction)\n"
   ]
  },
  {
   "cell_type": "code",
   "execution_count": null,
   "metadata": {},
   "outputs": [],
   "source": []
  }
 ],
 "metadata": {
  "kernelspec": {
   "display_name": "venv",
   "language": "python",
   "name": "python3"
  },
  "language_info": {
   "codemirror_mode": {
    "name": "ipython",
    "version": 3
   },
   "file_extension": ".py",
   "mimetype": "text/x-python",
   "name": "python",
   "nbconvert_exporter": "python",
   "pygments_lexer": "ipython3",
   "version": "3.11.0"
  }
 },
 "nbformat": 4,
 "nbformat_minor": 2
}
